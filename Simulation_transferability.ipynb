{
 "cells": [
  {
   "cell_type": "code",
   "execution_count": 9,
   "id": "0c8c60f4",
   "metadata": {},
   "outputs": [],
   "source": [
    "from qiskit import QuantumCircuit, ClassicalRegister, QuantumRegister\n",
    "from qiskit import Aer, transpile\n",
    "from qiskit.algorithms.minimum_eigensolvers import VQE\n",
    "from qiskit.primitives import Estimator\n",
    "from qiskit.circuit import Parameter, ParameterVector\n",
    "import numpy as np\n",
    "from qiskit.opflow import X, Y, Z, I\n",
    "import matplotlib.pyplot as plt\n",
    "from functools import partial\n",
    "from scipy.optimize import minimize as opt\n",
    "from time import time\n",
    "\n",
    "\n",
    "def create_hamiltonian(N): #crea l'hamiltoniana generale di ising dati i campi e n di qubits\n",
    "    for q in range(N): #questo for crea i termini Hz,Hx,Hzz insieme H=gzz*Hz-gx*Hx-gz*Hz\n",
    "        if q==0:\n",
    "            opz=Z\n",
    "            opx=X\n",
    "            opzz=Z\n",
    "        else:\n",
    "            opz=I\n",
    "            opx=I\n",
    "            opzz=I\n",
    "        if q==N-1:\n",
    "            opzz=Z\n",
    "        for i in range(1,N):\n",
    "            if i==q:\n",
    "                opz=opz^Z\n",
    "                opx=opx^X\n",
    "            else:\n",
    "                opz=opz^I\n",
    "                opx=opx^I\n",
    "            if i==q or i==q+1:\n",
    "                opzz=opzz^Z\n",
    "            else:\n",
    "                opzz=opzz^I\n",
    "        if q==0:\n",
    "            Hz=opz\n",
    "            Hx=opx\n",
    "            Hzz=opzz\n",
    "        else:\n",
    "            Hz=Hz+opz\n",
    "            Hx=Hx+opx\n",
    "            Hzz=Hzz+opzz\n",
    "    return Hz,Hx,Hzz\n",
    "\n",
    "def create_graph(N):\n",
    "    g=[]\n",
    "    for i in range(N):\n",
    "        g.append((i,i+1))\n",
    "        if i==N-2:\n",
    "            g.append((N-1,0))\n",
    "            break\n",
    "    return g\n",
    "\n",
    "def create_parameterized_circuit(N,p): #crea il circuito parametrico\n",
    "    gamma=ParameterVector('gamma',p)\n",
    "    beta=ParameterVector('beta',p)\n",
    "    qr=QuantumRegister(N, 'q')\n",
    "    qc=QuantumCircuit(qr)\n",
    "    qc.h(qr[0:N])\n",
    "    g=create_graph(N)\n",
    "    for i in range(p):\n",
    "        for edge in g: #cost layer, evolution with gzz*Hzz\n",
    "            qc.cx(edge[0],edge[1])\n",
    "            qc.rz(-2*gzz*gamma[i],edge[1])\n",
    "            qc.cx(edge[0],edge[1])\n",
    "        qc.rz(2*gz*gamma[i],qr[0:N]) #cost layer, evolution with -gz*Hz\n",
    "        qc.rx(2*gx*beta[i],qr[0:N]) #mixer layer\n",
    "    return qc\n",
    "\n",
    "def expectation_value(parameters,estimator,qc,Htot): #calcola il valore dell'energia tramite l'estimator\n",
    "    qc.assign_parameters(parameters,inplace=True)\n",
    "    job = estimator.run(qc,Htot)\n",
    "    result=job.result()\n",
    "    return result.values[0]\n",
    "\n",
    "def generate_random_parameters(p): #genera i parametri casualmente tra 0 e pi\n",
    "    initial_parameters=np.empty(p) #al circuito vanno dati prima i beta in ordine e poi i gamma in ordine\n",
    "    for i in range(p):\n",
    "        initial_parameters[i]=np.random.uniform(0,2*np.pi)\n",
    "    return initial_parameters\n",
    "\n",
    "def compute_new_parameters(old_parameters,P): #metodo INTERP\n",
    "    new_parameters=np.empty(P)\n",
    "    new_parameters[0]=old_parameters[0]\n",
    "    for i in range(P-1):\n",
    "        new_parameters[i]=(i/(P-1))*old_parameters[i-1]+((P-1-i)/(P-1))*old_parameters[i]\n",
    "    new_parameters[P-1]=old_parameters[P-2]\n",
    "    return new_parameters\n",
    "\n",
    "def optimization_via_INTERP(N,P_max):\n",
    "    Hz,Hx,Hzz=create_hamiltonian(N)\n",
    "    Htot=gzz*Hzz-gx*Hx-gz*Hz\n",
    "    optimizer=partial(opt,method='L-BFGS-B')\n",
    "    qc=create_parameterized_circuit(N,1)\n",
    "    estimator=Estimator()\n",
    "    gammas=[0.1]\n",
    "    betas=[0.1]\n",
    "    new_parameters=betas+gammas\n",
    "    start_time=time()\n",
    "    optimized_parameters=VQE(estimator,qc,optimizer,initial_point=new_parameters).compute_minimum_eigenvalue(Htot).optimal_point\n",
    "    for P in range(2,P_max+1):\n",
    "        qc=create_parameterized_circuit(N,P)\n",
    "        gammas=compute_new_parameters(gammas,P)\n",
    "        betas=compute_new_parameters(betas,P)\n",
    "        new_parameters=np.concatenate((betas,gammas))\n",
    "        optimized_parameters=VQE(estimator,qc,optimizer,initial_point=new_parameters).compute_minimum_eigenvalue(Htot).optimal_point\n",
    "    comput_time=time()-start_time\n",
    "    return optimized_parameters,comput_time,expectation_value(optimized_parameters,estimator,create_parameterized_circuit(N,P_max),Htot)"
   ]
  },
  {
   "cell_type": "code",
   "execution_count": 4,
   "id": "b93cfcbd",
   "metadata": {},
   "outputs": [],
   "source": [
    "gx=0.5 #campo trasverso\n",
    "gz=0 #campo longitudinale\n",
    "gzz=-1 #coef. davanti all'interazione (-1=ferro,+1=antiferro)\n",
    "optimizer=partial(opt,method='L-BFGS-B')\n",
    "estimator=Estimator()"
   ]
  },
  {
   "cell_type": "code",
   "execution_count": 73,
   "id": "8dba8406",
   "metadata": {},
   "outputs": [],
   "source": [
    "#L'ESPERIMENTO CONSISTE NEL SIMULARE L'OTTIMIZZAZIONE TRAMITE INTERP PER P=4 E N=8 CON L-BFGS-B. POI PRENDO\n",
    "#N=10,12,14,16 E UTILIZZO I PARAMETRI OTTIMALI PER N=8 SUI NUOVI VALORI DI N SEMPRE CON P=4.\n",
    "#CALCOLO LA DIFFERENZA TRA IL TEMPO COMPUT. PER OTTIMIZZARE DA ZERO CON INTERP P=4 E UN DATO N E IL TEMPO CHE \n",
    "#CI METTO TRASFERENDO I PARAMETRI DI N=8 SUL NUOVO N E OTTIMIZZANDO DA LI'. CALCOLO INOLTRE LA DIFFERENZA DI ENERGIA\n",
    "#NEI DUE CASI"
   ]
  },
  {
   "cell_type": "code",
   "execution_count": 64,
   "id": "da5bc00a",
   "metadata": {},
   "outputs": [],
   "source": [
    "time_diff_ratio=[]\n",
    "energy_diff=[]\n",
    "for N in range(10,18,2):\n",
    "    P=4\n",
    "    Hz,Hx,Hzz=create_hamiltonian(N)\n",
    "    Htot=gzz*Hzz-gx*Hx-gz*Hz\n",
    "    qc=create_parameterized_circuit(N,P)\n",
    "    start_time=time()\n",
    "    optimized_parameters=VQE(estimator,qc,optimizer,initial_point=optimal_p4N8).compute_minimum_eigenvalue(Htot).optimal_point\n",
    "    comput_time=time()-start_time\n",
    "    total_comput_time_with_transf=comput_time+time_for_interp_optimization_p4N8\n",
    "    optimal_par,time_for_interp,energy=optimization_via_INTERP(N,P)\n",
    "    time_diff_ratio.append((time_for_interp-total_comput_time_with_transf)/time_for_interp)\n",
    "    energy_diff.append(abs(energy-expectation_value(optimized_parameters,estimator,create_parameterized_circuit(N,P),Htot))/abs(energy))"
   ]
  },
  {
   "cell_type": "code",
   "execution_count": 65,
   "id": "911f8b8a",
   "metadata": {},
   "outputs": [
    {
     "data": {
      "text/plain": [
       "([0.09298587993076966,\n",
       "  0.3269244476359429,\n",
       "  0.6916264542525645,\n",
       "  0.75595497558542],\n",
       " [2.1561276750868989e-10,\n",
       "  1.710222385647141e-10,\n",
       "  2.9625754674534074e-10,\n",
       "  5.39776846863993e-10])"
      ]
     },
     "execution_count": 65,
     "metadata": {},
     "output_type": "execute_result"
    }
   ],
   "source": [
    "time_diff_ratio,energy_diff"
   ]
  },
  {
   "cell_type": "code",
   "execution_count": 66,
   "id": "167363bf",
   "metadata": {},
   "outputs": [],
   "source": [
    "time_diff_ratio=np.array(time_diff_ratio)\n",
    "energy_diff=np.array(energy_diff)\n",
    "N_list=np.array([10,12,14,16])"
   ]
  },
  {
   "cell_type": "code",
   "execution_count": 70,
   "id": "064a9682",
   "metadata": {},
   "outputs": [],
   "source": [
    "#QUI FACCIO IL PLOT DELLA FRAZIONE DI TEMPO RISPARMIATA E DELLA DIFFERENZA DI ENERGIA "
   ]
  },
  {
   "cell_type": "code",
   "execution_count": 68,
   "id": "7e58580b",
   "metadata": {},
   "outputs": [
    {
     "data": {
      "image/png": "[encoded data removed]",
      "text/plain": [
       "<Figure size 640x480 with 1 Axes>"
      ]
     },
     "metadata": {},
     "output_type": "display_data"
    }
   ],
   "source": [
    "plt.plot(N_list,time_diff_ratio,color='red')\n",
    "plt.xlabel('N')\n",
    "plt.ylabel('time saving fraction')\n",
    "plt.show()"
   ]
  },
  {
   "cell_type": "code",
   "execution_count": 69,
   "id": "80874ba2",
   "metadata": {},
   "outputs": [
    {
     "data": {
      "image/png": "[encoded data removed]",
      "text/plain": [
       "<Figure size 640x480 with 1 Axes>"
      ]
     },
     "metadata": {},
     "output_type": "display_data"
    }
   ],
   "source": [
    "plt.plot(N_list,energy_diff,color='blue')\n",
    "plt.xlabel('N')\n",
    "plt.ylabel('energy difference')\n",
    "plt.show()"
   ]
  },
  {
   "cell_type": "code",
   "execution_count": 3,
   "id": "79e138e9",
   "metadata": {},
   "outputs": [],
   "source": [
    "#RISULTA CHE LA FRAZIONE DI TEMPO RISPARMIATA E' CRESCENTE IN N (E DI PARECCHIO) MENTRE L'ENERGIA RIMANE PRESSOCHE' \n",
    "#COSTANTE (TIENI IN CONTO CHE NEL PLOT C'E' UN FATTORE 10^-10)"
   ]
  },
  {
   "cell_type": "code",
   "execution_count": 11,
   "id": "37fdf8c7",
   "metadata": {},
   "outputs": [
    {
     "name": "stdout",
     "output_type": "stream",
     "text": [
      "[10, -8.13505541030837]\n",
      "[10, -9.635283681659079]\n",
      "[12, -9.762066492370046]\n",
      "[12, -11.56234041791812]\n",
      "[14, -11.389077574431706]\n",
      "[14, -13.48939715422995]\n",
      "[16, -13.01608865649338]\n",
      "[16, -15.416453890803488]\n"
     ]
    }
   ],
   "source": [
    "energy_diff_no_opt=[]\n",
    "optimized_parameters=optimization_via_INTERP(8,4)[0]\n",
    "for N in range(10,18,2):\n",
    "    P=4\n",
    "    Hz,Hx,Hzz=create_hamiltonian(N)\n",
    "    Htot=gzz*Hzz-gx*Hx-gz*Hz\n",
    "    qc=create_parameterized_circuit(N,P)\n",
    "    energy_one_shot=expectation_value(optimized_parameters,estimator,create_parameterized_circuit(N,P),Htot)\n",
    "    print([N,energy_one_shot])\n",
    "    optimum=VQE(estimator,qc,optimizer,initial_point=optimized_parameters).compute_minimum_eigenvalue(Htot).optimal_point\n",
    "    energy_optimal=expectation_value(optimum,estimator,create_parameterized_circuit(N,P),Htot)\n",
    "    print([N,energy_optimal])\n",
    "    energy_diff_no_opt.append(1-abs(energy_optimal-energy_one_shot)/abs(energy_optimal))"
   ]
  },
  {
   "cell_type": "code",
   "execution_count": 15,
   "id": "4a2d8ca8",
   "metadata": {},
   "outputs": [
    {
     "data": {
      "text/plain": [
       "0.8442984845080347"
      ]
     },
     "execution_count": 15,
     "metadata": {},
     "output_type": "execute_result"
    }
   ],
   "source": [
    "1-(15.416453890803488-13.01608865649338)/15.416453890803488"
   ]
  },
  {
   "cell_type": "code",
   "execution_count": 19,
   "id": "20567733",
   "metadata": {},
   "outputs": [
    {
     "data": {
      "image/png": "[encoded data removed]",
      "text/plain": [
       "<Figure size 640x480 with 1 Axes>"
      ]
     },
     "metadata": {},
     "output_type": "display_data"
    }
   ],
   "source": [
    "N_list=[10,12,14,16]\n",
    "plt.plot(N_list,energy_diff_no_opt,color='green')\n",
    "plt.ylim([0,1])\n",
    "plt.xlabel('N')\n",
    "plt.ylabel('energy difference with/without optimization')\n",
    "plt.show()"
   ]
  },
  {
   "cell_type": "code",
   "execution_count": 20,
   "id": "b07f5be5",
   "metadata": {},
   "outputs": [],
   "source": [
    "#USANODO I PARAMETRI PER N=8 E P=4 SU UN NUMERO DI QUBIT DIVERSO ONE-SHOT, L'ALGO TROVA UN'ENERGIA CHE E' \n",
    "#SEMPRE LA STESSA FRAZIONE DELL'ENERGIA MINIMA CHE L'ALGO TROVA DOPO UNA REFINEMENT OPTIMIZATION!!!"
   ]
  },
  {
   "cell_type": "code",
   "execution_count": null,
   "id": "a83c8f1e",
   "metadata": {},
   "outputs": [],
   "source": []
  }
 ],
 "metadata": {
  "kernelspec": {
   "display_name": "Python 3 (ipykernel)",
   "language": "python",
   "name": "python3"
  },
  "language_info": {
   "codemirror_mode": {
    "name": "ipython",
    "version": 3
   },
   "file_extension": ".py",
   "mimetype": "text/x-python",
   "name": "python",
   "nbconvert_exporter": "python",
   "pygments_lexer": "ipython3",
   "version": "3.10.6"
  }
 },
 "nbformat": 4,
 "nbformat_minor": 5
}
